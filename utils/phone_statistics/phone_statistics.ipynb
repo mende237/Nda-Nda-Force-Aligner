{
 "cells": [
  {
   "cell_type": "code",
   "execution_count": 26,
   "metadata": {},
   "outputs": [],
   "source": [
    "import pandas as pd\n",
    "import matplotlib.pyplot as plt\n",
    "import numpy as np"
   ]
  },
  {
   "cell_type": "code",
   "execution_count": 27,
   "metadata": {},
   "outputs": [],
   "source": [
    "def convert_csv_to_triphone_dict(file_path):\n",
    "    # Read the CSV file\n",
    "    df = pd.read_csv(file_path)\n",
    "    # Convert DataFrame to dictionary\n",
    "    triphone_count_result = {\n",
    "        tuple(triphone.split('-')): count for triphone, count in zip(df['Triphone'], df['Count'])\n",
    "    }\n",
    "\n",
    "    return triphone_count_result"
   ]
  },
  {
   "cell_type": "code",
   "execution_count": 28,
   "metadata": {},
   "outputs": [],
   "source": [
    "def read_tone_data(file_path):\n",
    "    # Define the mapping from French to English\n",
    "    tone_mapping = {\n",
    "        'HAUT': \"ˊ\",      # high\n",
    "        'BAS': \"ˋ\",       # low\n",
    "        'BAS-HAUT': \"ˇ\",  # low high\n",
    "        'HAUT-BAS': \"ˆ\"   # high low\n",
    "    }\n",
    "\n",
    "    # Read the CSV file into a DataFrame\n",
    "    df = pd.read_csv(file_path)\n",
    "\n",
    "    # Convert DataFrame to dictionary with English tone labels\n",
    "    tone_count_result = {\n",
    "        tone_mapping[row['Tone']]: row['Count'] for index, row in df.iterrows() if row['Tone'] in tone_mapping\n",
    "    }\n",
    "\n",
    "    return tone_count_result"
   ]
  },
  {
   "cell_type": "code",
   "execution_count": 29,
   "metadata": {},
   "outputs": [],
   "source": [
    "def draw_graph(triphone_count_result, output_image_file, top_n=40):\n",
    "    # Sort triphones by count in descending order\n",
    "    sorted_triphones = sorted(triphone_count_result.items(), key=lambda item: item[1], reverse=True)\n",
    "    \n",
    "    # Limit to top N triphones\n",
    "    if len(sorted_triphones) > top_n:\n",
    "        sorted_triphones = sorted_triphones[:top_n]\n",
    "    \n",
    "    triphones = ['-'.join(triphone) for triphone, count in sorted_triphones]\n",
    "    counts = [count for triphone, count in sorted_triphones]\n",
    "\n",
    "    # Calculate mean and median\n",
    "    mean_count = np.mean(counts)\n",
    "    median_count = np.median(counts)\n",
    "\n",
    "    plt.figure(figsize=(15, 6.5))  # Increase figure size\n",
    "    plt.bar(triphones, counts, color='#1f77b4')\n",
    "    plt.axhline(y=mean_count, color='r', linestyle='-', label=f'Mean: {mean_count:.2f}')\n",
    "    plt.axhline(y=median_count, color='y', linestyle='--', label=f'Median: {median_count:.2f}')\n",
    "    plt.xlabel('Triphones', fontsize=28)  # Increase label size\n",
    "    plt.ylabel('Frequency', fontsize=28)  # Increase label size\n",
    "    plt.yticks(fontsize=24)  # Increase y-axis graduation size\n",
    "    plt.xticks(rotation=90, fontsize=28)  # Increase x-axis labels size\n",
    "    plt.legend(fontsize=28)  # Increase legend size\n",
    "    plt.tight_layout()\n",
    "\n",
    "    # Save the plot as an EPS file\n",
    "    plt.savefig(output_image_file, format='eps')\n",
    "    plt.close()"
   ]
  },
  {
   "cell_type": "code",
   "execution_count": 63,
   "metadata": {},
   "outputs": [],
   "source": [
    "def draw_tone_graph(tone_count_result, output_image_file):\n",
    "    # Sort tones by count in descending order\n",
    "    sorted_tones = sorted(tone_count_result.items(), key=lambda item: item[1], reverse=True)\n",
    "    \n",
    "    tones = [tone for tone, count in sorted_tones]\n",
    "    counts = [count for tone, count in sorted_tones]\n",
    "\n",
    "    plt.figure(figsize=(10, 10))\n",
    "    plt.bar(tones, counts, color='#1f77b4')\n",
    "    plt.xlabel('Tones', fontsize=40)  # Increase label size\n",
    "    plt.ylabel('Frequency', fontsize=40)  # Increase label size\n",
    "    plt.yticks(fontsize=30)  # Increase y-axis graduation size\n",
    "    plt.xticks(rotation=360, fontsize=70)  # Increase x-axis labels size\n",
    "    plt.tight_layout()\n",
    "    \n",
    "    # Save the plot as an EPS file\n",
    "    plt.savefig(output_image_file, format='eps')\n",
    "    plt.close()"
   ]
  },
  {
   "cell_type": "code",
   "execution_count": 64,
   "metadata": {},
   "outputs": [
    {
     "name": "stdout",
     "output_type": "stream",
     "text": [
      "Graph saved as tone_distribution.eps.\n"
     ]
    }
   ],
   "source": [
    "file_path = 'tone_count.csv'  # Replace with your actual file path\n",
    "tone_count_result = read_tone_data(file_path)\n",
    "\n",
    "output_image_file = 'tone_distribution.eps'  # Output file name\n",
    "draw_tone_graph(tone_count_result, output_image_file)\n",
    "\n",
    "print(f\"Graph saved as {output_image_file}.\")"
   ]
  },
  {
   "cell_type": "code",
   "execution_count": 65,
   "metadata": {},
   "outputs": [
    {
     "name": "stderr",
     "output_type": "stream",
     "text": [
      "The PostScript backend does not support transparency; partially transparent artists will be rendered opaque.\n"
     ]
    },
    {
     "name": "stdout",
     "output_type": "stream",
     "text": [
      "Graph saved as triphone_frequency_distribution.eps.\n"
     ]
    }
   ],
   "source": [
    "# Convert CSV to triphone count dictionary\n",
    "file_path = 'triphone_count.csv'  # Replace with your actual file path\n",
    "triphone_count_result = convert_csv_to_triphone_dict(file_path)\n",
    "\n",
    "# Call the draw_graph function to create and save the image\n",
    "output_image_file = 'triphone_frequency_distribution.eps'  # Output file name\n",
    "top_n = 20  # Number of top triphones to display\n",
    "\n",
    "draw_graph(triphone_count_result, output_image_file, top_n)\n",
    "\n",
    "print(f\"Graph saved as {output_image_file}.\")"
   ]
  }
 ],
 "metadata": {
  "kernelspec": {
   "display_name": "myvenv",
   "language": "python",
   "name": "python3"
  },
  "language_info": {
   "codemirror_mode": {
    "name": "ipython",
    "version": 3
   },
   "file_extension": ".py",
   "mimetype": "text/x-python",
   "name": "python",
   "nbconvert_exporter": "python",
   "pygments_lexer": "ipython3",
   "version": "3.12.3"
  }
 },
 "nbformat": 4,
 "nbformat_minor": 2
}
